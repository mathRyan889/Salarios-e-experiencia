{
  "nbformat": 4,
  "nbformat_minor": 0,
  "metadata": {
    "colab": {
      "provenance": [],
      "authorship_tag": "ABX9TyNYaM7MG9yAstdr6pF5a8RX",
      "include_colab_link": true
    },
    "kernelspec": {
      "name": "python3",
      "display_name": "Python 3"
    },
    "language_info": {
      "name": "python"
    }
  },
  "cells": [
    {
      "cell_type": "markdown",
      "metadata": {
        "id": "view-in-github",
        "colab_type": "text"
      },
      "source": [
        "<a href=\"https://colab.research.google.com/github/mathRyan889/Salarios-e-experiencia/blob/main/Salario_e_experiencia.ipynb\" target=\"_parent\"><img src=\"https://colab.research.google.com/assets/colab-badge.svg\" alt=\"Open In Colab\"/></a>"
      ]
    },
    {
      "cell_type": "markdown",
      "source": [
        "Você recebe um conjunto de dados anônimos contendo o salary (o salário de cada usuario, em dolares) e o tenure (a experiencia como cientista de dados, em anos):\n"
      ],
      "metadata": {
        "id": "D5hhVM-B_Sqh"
      }
    },
    {
      "cell_type": "code",
      "source": [
        "salaries_and_ternures = [\n",
        "    (83000, 8.7),(88000, 8.1),\n",
        "    (48000, 0.7),(76000, 6),\n",
        "    (69000, 6.5),(76000, 7.5),\n",
        "    (60000, 2.5),(83000, 10),\n",
        "    (48000, 1.9), (63000, 4.2)\n",
        "]"
      ],
      "metadata": {
        "id": "w4Bh7nd4_SOd"
      },
      "execution_count": null,
      "outputs": []
    },
    {
      "cell_type": "code",
      "source": [
        "#as chaves são anos, os valores são listas de salários por anos de experiencia.\n",
        "from collections import defaultdict\n",
        "\n",
        "salary_by_tenure = defaultdict(list)\n",
        "\n",
        "for salary, tenure in salaries_and_ternures:\n",
        "    salary_by_tenure[tenure].append(salary)\n"
      ],
      "metadata": {
        "id": "TW3TT2bi_SKb"
      },
      "execution_count": null,
      "outputs": []
    },
    {
      "cell_type": "code",
      "source": [
        "# As chaves são anos, cada valor é o salário médio associado ao número de anos de experiencia.\n",
        "average_salary_by_tenure = {\n",
        "    tenure: sum(salaries)/len(salaries)\n",
        "    for tenure, salaries in salary_by_tenure.items()\n",
        "}\n"
      ],
      "metadata": {
        "id": "FPyOe2q0_SHP"
      },
      "execution_count": null,
      "outputs": []
    },
    {
      "cell_type": "markdown",
      "source": [
        "essa informação não é muit util, já que os usuários não tem os mesmos anos de experiencia, ou seja, só os seus salários individuais são indicados:"
      ],
      "metadata": {
        "id": "0CC4owG8CYvI"
      }
    },
    {
      "cell_type": "code",
      "source": [
        "average_salary_by_tenure"
      ],
      "metadata": {
        "colab": {
          "base_uri": "https://localhost:8080/"
        },
        "id": "nalmexTB_SDn",
        "outputId": "417c92ae-d02d-4839-bafb-b597a2516505"
      },
      "execution_count": null,
      "outputs": [
        {
          "output_type": "execute_result",
          "data": {
            "text/plain": [
              "{8.7: 83000.0,\n",
              " 8.1: 88000.0,\n",
              " 0.7: 48000.0,\n",
              " 6: 76000.0,\n",
              " 6.5: 69000.0,\n",
              " 7.5: 76000.0,\n",
              " 2.5: 60000.0,\n",
              " 10: 83000.0,\n",
              " 1.9: 48000.0,\n",
              " 4.2: 63000.0}"
            ]
          },
          "metadata": {},
          "execution_count": 5
        }
      ]
    },
    {
      "cell_type": "markdown",
      "source": [
        "Vamos criar buckets de experiencia;"
      ],
      "metadata": {
        "id": "kmHkHFmzDBFm"
      }
    },
    {
      "cell_type": "code",
      "source": [
        "def tenure_bucket(tenure):\n",
        "  if tenure < 2:\n",
        "    return \"less than two\"\n",
        "  elif tenure < 5:\n",
        "    return \"between two and five\"\n",
        "  else:\n",
        "    return \"more than five\""
      ],
      "metadata": {
        "id": "wEouhqiS_R_y"
      },
      "execution_count": null,
      "outputs": []
    },
    {
      "cell_type": "markdown",
      "source": [
        "em seguida, agrupamos os salários correspondentes a cada bucket:"
      ],
      "metadata": {
        "id": "6wD6ZEUjDTy9"
      }
    },
    {
      "cell_type": "code",
      "source": [
        "#as chaves são buckets de anos de experiencia, os valores são listas de salários associadas ao bucket em questão\n",
        "salary_by_tenure_bucket = defaultdict(list)\n",
        "\n",
        "for salary, tenure in salaries_and_ternures:\n",
        "  bucket = tenure_bucket(tenure)\n",
        "  salary_by_tenure_bucket[bucket].append(salary)"
      ],
      "metadata": {
        "id": "KPWxx2rzDaRc"
      },
      "execution_count": null,
      "outputs": []
    },
    {
      "cell_type": "code",
      "source": [
        "salary_by_tenure_bucket"
      ],
      "metadata": {
        "colab": {
          "base_uri": "https://localhost:8080/"
        },
        "id": "6uS2xn8-_R8A",
        "outputId": "9966aba5-1988-4683-aa5e-0a6c2c9262a5"
      },
      "execution_count": null,
      "outputs": [
        {
          "output_type": "execute_result",
          "data": {
            "text/plain": [
              "defaultdict(list,\n",
              "            {'more than five': [83000, 88000, 76000, 69000, 76000, 83000],\n",
              "             'less than two': [48000, 48000],\n",
              "             'between two and five': [60000, 63000]})"
            ]
          },
          "metadata": {},
          "execution_count": 8
        }
      ]
    },
    {
      "cell_type": "markdown",
      "source": [
        "Agora a gente computa a media salarial  de cada grupo"
      ],
      "metadata": {
        "id": "_76E5RPYEQLr"
      }
    },
    {
      "cell_type": "code",
      "source": [
        "#as chaves são buckets de anos de experiencia, os valores são a média\n",
        "average_salary_by_bucket = {\n",
        "  tenure_bucket: sum(salaries)/len(salaries)\n",
        "  for tenure_bucket, salaries in salary_by_tenure_bucket.items()\n",
        "}"
      ],
      "metadata": {
        "id": "FTqD-OpB_R3-"
      },
      "execution_count": null,
      "outputs": []
    },
    {
      "cell_type": "code",
      "source": [
        "average_salary_by_bucket"
      ],
      "metadata": {
        "colab": {
          "base_uri": "https://localhost:8080/"
        },
        "id": "HVSjutIU_Ryg",
        "outputId": "ce198923-4cf6-48c3-d336-7847fab8c6d8"
      },
      "execution_count": null,
      "outputs": [
        {
          "output_type": "execute_result",
          "data": {
            "text/plain": [
              "{'more than five': 79166.66666666667,\n",
              " 'less than two': 48000.0,\n",
              " 'between two and five': 61500.0}"
            ]
          },
          "metadata": {},
          "execution_count": 10
        }
      ]
    },
    {
      "cell_type": "code",
      "source": [],
      "metadata": {
        "id": "XUGtGEea_Rqp"
      },
      "execution_count": null,
      "outputs": []
    },
    {
      "cell_type": "code",
      "execution_count": null,
      "metadata": {
        "id": "UBc5QWLb_LMp"
      },
      "outputs": [],
      "source": []
    }
  ]
}